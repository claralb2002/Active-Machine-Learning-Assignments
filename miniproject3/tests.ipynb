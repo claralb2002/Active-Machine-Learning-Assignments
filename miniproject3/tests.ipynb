{
 "cells": [
  {
   "cell_type": "code",
   "execution_count": 24,
   "metadata": {},
   "outputs": [],
   "source": [
    "import pandas as pd\n",
    "import numpy as np\n",
    "import scipy.stats as st\n",
    "\n",
    "base_path = 'data/test/'"
   ]
  },
  {
   "cell_type": "markdown",
   "metadata": {},
   "source": [
    "## test 1 - 50 samples"
   ]
  },
  {
   "cell_type": "code",
   "execution_count": 19,
   "metadata": {},
   "outputs": [],
   "source": [
    "test1 = pd.read_csv(f'{base_path}/data_1245.csv')"
   ]
  },
  {
   "cell_type": "code",
   "execution_count": null,
   "metadata": {},
   "outputs": [
    {
     "data": {
      "text/html": [
       "<div>\n",
       "<style scoped>\n",
       "    .dataframe tbody tr th:only-of-type {\n",
       "        vertical-align: middle;\n",
       "    }\n",
       "\n",
       "    .dataframe tbody tr th {\n",
       "        vertical-align: top;\n",
       "    }\n",
       "\n",
       "    .dataframe thead th {\n",
       "        text-align: right;\n",
       "    }\n",
       "</style>\n",
       "<table border=\"1\" class=\"dataframe\">\n",
       "  <thead>\n",
       "    <tr style=\"text-align: right;\">\n",
       "      <th></th>\n",
       "      <th>mean</th>\n",
       "      <th>variance</th>\n",
       "      <th>95_conf</th>\n",
       "    </tr>\n",
       "  </thead>\n",
       "  <tbody>\n",
       "    <tr>\n",
       "      <th>A</th>\n",
       "      <td>1.170231</td>\n",
       "      <td>2.561326</td>\n",
       "      <td>[0.711, 1.63]</td>\n",
       "    </tr>\n",
       "    <tr>\n",
       "      <th>B</th>\n",
       "      <td>0.162140</td>\n",
       "      <td>0.349740</td>\n",
       "      <td>[-0.008, 0.332]</td>\n",
       "    </tr>\n",
       "    <tr>\n",
       "      <th>C</th>\n",
       "      <td>0.158782</td>\n",
       "      <td>1.660778</td>\n",
       "      <td>[-0.211, 0.529]</td>\n",
       "    </tr>\n",
       "    <tr>\n",
       "      <th>D</th>\n",
       "      <td>1.648091</td>\n",
       "      <td>3.591637</td>\n",
       "      <td>[1.104, 2.192]</td>\n",
       "    </tr>\n",
       "  </tbody>\n",
       "</table>\n",
       "</div>"
      ],
      "text/plain": [
       "       mean  variance          95_conf\n",
       "A  1.170231  2.561326    [0.711, 1.63]\n",
       "B  0.162140  0.349740  [-0.008, 0.332]\n",
       "C  0.158782  1.660778  [-0.211, 0.529]\n",
       "D  1.648091  3.591637   [1.104, 2.192]"
      ]
     },
     "execution_count": 29,
     "metadata": {},
     "output_type": "execute_result"
    }
   ],
   "source": [
    "def provideStats(test_results):\n",
    "    A,B,C,D = test_results['A'], test_results['B'], test_results['C'], test_results['D']\n",
    "    observations = [A,B,C,D]\n",
    "\n",
    "    d = {'mean': [np.mean(t) for t in observations], \n",
    "         'variance': [np.var(t) for t in observations], \n",
    "         '95_conf': [np.round(st.t.interval(0.95, len(t)-1, loc=np.mean(t), scale=st.sem(t)), decimals=3) for t in observations]}\n",
    "    \n",
    "    stats = pd.DataFrame(data=d, index=['A','B','C','D'])\n",
    "\n",
    "    return stats\n",
    "\n",
    "provideStats(test1)"
   ]
  }
 ],
 "metadata": {
  "kernelspec": {
   "display_name": "base",
   "language": "python",
   "name": "python3"
  },
  "language_info": {
   "codemirror_mode": {
    "name": "ipython",
    "version": 3
   },
   "file_extension": ".py",
   "mimetype": "text/x-python",
   "name": "python",
   "nbconvert_exporter": "python",
   "pygments_lexer": "ipython3",
   "version": "3.11.9"
  }
 },
 "nbformat": 4,
 "nbformat_minor": 2
}
